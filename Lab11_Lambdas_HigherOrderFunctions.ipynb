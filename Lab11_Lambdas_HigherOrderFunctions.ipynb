{
 "cells": [
  {
   "cell_type": "markdown",
   "id": "c1f18506",
   "metadata": {},
   "source": [
    "# 🧪 Lab 11: Lambdas and Custom Higher-Order Functions\n",
    "\n",
    "## Objectives\n",
    "- Understand and write lambda (anonymous) functions\n",
    "- Learn how to create higher-order functions (functions that accept or return other functions)\n",
    "- Use lambdas with `sorted()`, `filter()`, and `map()`\n",
    "- Practice function composition and custom logic\n",
    "\n",
    "---"
   ]
  },
  {
   "cell_type": "markdown",
   "id": "d04f982d",
   "metadata": {},
   "source": [
    "## 📘 What are Higher-Order Functions?\n",
    "A higher-order function is a function that either:\n",
    "- Takes one or more functions as arguments, or\n",
    "- Returns another function as its result.\n",
    "\n",
    "This allows for powerful abstraction and reuse of logic."
   ]
  },
  {
   "cell_type": "code",
   "execution_count": null,
   "id": "a2f64940",
   "metadata": {},
   "outputs": [],
   "source": [
    "# ✅ Basic lambda example\n",
    "add = lambda x, y: x + y\n",
    "print(add(3, 5))"
   ]
  },
  {
   "cell_type": "code",
   "execution_count": null,
   "id": "bfd65f4e",
   "metadata": {},
   "outputs": [],
   "source": [
    "# ✅ Sort by last character using lambda\n",
    "words = [\"banana\", \"apple\", \"cherry\"]\n",
    "sorted_words = sorted(words, key=lambda word: word[-1])\n",
    "print(sorted_words)"
   ]
  },
  {
   "cell_type": "markdown",
   "id": "640c87ee",
   "metadata": {},
   "source": [
    "## 🔧 Creating a Higher-Order Function"
   ]
  },
  {
   "cell_type": "code",
   "execution_count": null,
   "id": "a696c255",
   "metadata": {},
   "outputs": [],
   "source": [
    "# ✅ A function that returns another function\n",
    "def make_multiplier(factor):\n",
    "    return lambda x: x * factor\n",
    "\n",
    "double = make_multiplier(2)\n",
    "triple = make_multiplier(3)\n",
    "\n",
    "print(\"Double 4:\", double(4))\n",
    "print(\"Triple 4:\", triple(4))"
   ]
  },
  {
   "cell_type": "code",
   "execution_count": null,
   "id": "18ba0170",
   "metadata": {},
   "outputs": [],
   "source": [
    "# ✅ A function that accepts a function as an argument\n",
    "def apply_twice(func, value):\n",
    "    return func(func(value))\n",
    "\n",
    "print(apply_twice(lambda x: x + 1, 3))  # returns 5"
   ]
  },
  {
   "cell_type": "code",
   "execution_count": null,
   "id": "43c70c56",
   "metadata": {},
   "outputs": [],
   "source": [
    "# ✅ Use lambda to filter complex conditions\n",
    "people = [\"Alice\", \"Bob\", \"Charlie\", \"Eve\"]\n",
    "filtered = list(filter(lambda name: len(name) > 3 and name[0] in \"AEIOU\", people))\n",
    "print(filtered)"
   ]
  },
  {
   "cell_type": "markdown",
   "id": "fa533fd8",
   "metadata": {},
   "source": [
    "## 📝 Practice\n",
    "1. Write a lambda that returns the square of a number.\n",
    "2. Create a higher-order function `make_power(n)` that returns a function to raise to power `n`.\n",
    "3. Use `sorted()` and a lambda to sort a list of names by their second letter.\n",
    "4. Use `map()` and a lambda to capitalize each word in a list.\n",
    "5. BONUS: Write a function that takes a list and a function, applies the function to each item, and returns the result."
   ]
  },
  {
   "cell_type": "code",
   "execution_count": null,
   "id": "e63aba43",
   "metadata": {},
   "outputs": [],
   "source": []
  }
 ],
 "metadata": {},
 "nbformat": 4,
 "nbformat_minor": 5
}