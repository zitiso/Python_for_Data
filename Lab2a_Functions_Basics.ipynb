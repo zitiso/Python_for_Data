{
 "cells": [
  {
   "cell_type": "markdown",
   "id": "4282b6cc",
   "metadata": {},
   "source": [
    "# 🧪 Lab 2a: Python Function Basics\n",
    "\n",
    "## Objectives\n",
    "- Understand how to define and call functions in Python\n",
    "- Learn about functions with and without parameters\n",
    "- Explore positional, named, and optional parameters\n",
    "- Practice writing reusable and testable function blocks\n",
    "\n",
    "---"
   ]
  },
  {
   "cell_type": "markdown",
   "id": "39f89af1",
   "metadata": {},
   "source": [
    "## 📘 What is a Function?\n",
    "A function is a reusable block of code that performs a specific task.\n",
    "\n",
    "### Basic Syntax:\n",
    "```python\n",
    "def function_name(parameters):\n",
    "    # code block\n",
    "    return value\n",
    "```"
   ]
  },
  {
   "cell_type": "code",
   "execution_count": null,
   "id": "be85585b",
   "metadata": {},
   "outputs": [],
   "source": [
    "# ✅ Function with no parameters and no return value\n",
    "def greet():\n",
    "    print(\"Hello, Python learner!\")\n",
    "\n",
    "greet()"
   ]
  },
  {
   "cell_type": "code",
   "execution_count": null,
   "id": "9f4eb0ef",
   "metadata": {},
   "outputs": [],
   "source": [
    "# ✅ Function with parameters\n",
    "def greet_user(name):\n",
    "    print(f\"Hello, {name}!\")\n",
    "\n",
    "greet_user(\"Alex\")"
   ]
  },
  {
   "cell_type": "code",
   "execution_count": null,
   "id": "50267638",
   "metadata": {},
   "outputs": [],
   "source": [
    "# ✅ Function that returns a value\n",
    "def add(a, b):\n",
    "    return a + b\n",
    "\n",
    "result = add(3, 5)\n",
    "print(\"Result:\", result)"
   ]
  },
  {
   "cell_type": "code",
   "execution_count": null,
   "id": "df7fa629",
   "metadata": {},
   "outputs": [],
   "source": [
    "# ✅ Positional vs named parameters\n",
    "def describe_pet(animal, name):\n",
    "    print(f\"{name} is a {animal}.\")\n",
    "\n",
    "describe_pet(\"dog\", \"Rex\")  # positional\n",
    "describe_pet(name=\"Whiskers\", animal=\"cat\")  # named"
   ]
  },
  {
   "cell_type": "code",
   "execution_count": null,
   "id": "14b45ee9",
   "metadata": {},
   "outputs": [],
   "source": [
    "# ✅ Optional parameters with default values\n",
    "def make_greeting(name, greeting=\"Hello\"):\n",
    "    return f\"{greeting}, {name}!\"\n",
    "\n",
    "print(make_greeting(\"Jordan\"))\n",
    "print(make_greeting(\"Jordan\", greeting=\"Hi\"))"
   ]
  },
  {
   "cell_type": "markdown",
   "id": "da7226b9",
   "metadata": {},
   "source": [
    "## 📝 Practice\n",
    "1. Write a function `say_hello()` that prints 'Hello!'\n",
    "2. Write a function `multiply(x, y)` that returns the product\n",
    "3. Create a function `describe_course(name, level=\"beginner\")` that prints the course name and level\n",
    "4. Try calling `describe_course(\"Python\")` and then with level set to \"advanced\""
   ]
  },
  {
   "cell_type": "code",
   "execution_count": null,
   "id": "76c6b0da",
   "metadata": {},
   "outputs": [],
   "source": []
  }
 ],
 "metadata": {},
 "nbformat": 4,
 "nbformat_minor": 5
}