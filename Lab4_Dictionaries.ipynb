{
 "cells": [
  {
   "cell_type": "markdown",
   "id": "7017434c",
   "metadata": {},
   "source": [
    "# 🧪 Lab 4: Working with Dictionaries in Python\n",
    "\n",
    "## Objectives\n",
    "- Understand what dictionaries are and how they are used\n",
    "- Learn how to create, access, and modify dictionary values\n",
    "- Explore looping through dictionaries\n",
    "- Use nested dictionaries and practical examples\n",
    "\n",
    "---"
   ]
  },
  {
   "cell_type": "markdown",
   "id": "c5a7c2ad",
   "metadata": {},
   "source": [
    "## 📘 What is a Dictionary?\n",
    "A dictionary is an unordered collection of key-value pairs. It's great for storing and organizing data by labels.\n",
    "\n",
    "### Dictionary Syntax:\n",
    "```python\n",
    "my_dict = {\"name\": \"Alex\", \"age\": 30, \"city\": \"Toronto\"}\n",
    "```"
   ]
  },
  {
   "cell_type": "code",
   "execution_count": null,
   "id": "a984a597",
   "metadata": {},
   "outputs": [],
   "source": [
    "# ✅ Create a dictionary to represent a person\n",
    "person = {\n",
    "    \"name\": \"Alex\",\n",
    "    \"age\": 30,\n",
    "    \"city\": \"Toronto\"\n",
    "}\n",
    "\n",
    "# Access and print values by key\n",
    "print(\"Name:\", person[\"name\"])\n",
    "print(\"Age:\", person[\"age\"])\n",
    "print(\"City:\", person[\"city\"])"
   ]
  },
  {
   "cell_type": "markdown",
   "id": "5569c9b1",
   "metadata": {},
   "source": [
    "## ✍️ Updating and Adding Items"
   ]
  },
  {
   "cell_type": "code",
   "execution_count": null,
   "id": "e6ff6a09",
   "metadata": {},
   "outputs": [],
   "source": [
    "# ✅ Update the age and add a new key for occupation\n",
    "person[\"age\"] = 31\n",
    "person[\"occupation\"] = \"Engineer\"\n",
    "print(person)"
   ]
  },
  {
   "cell_type": "markdown",
   "id": "1a50e800",
   "metadata": {},
   "source": [
    "## ❌ Removing Items and Checking Existence"
   ]
  },
  {
   "cell_type": "code",
   "execution_count": null,
   "id": "e7f34847",
   "metadata": {},
   "outputs": [],
   "source": [
    "# ✅ Delete the city key\n",
    "del person[\"city\"]\n",
    "\n",
    "# ✅ Check if a key exists\n",
    "print(\"name\" in person)\n",
    "print(\"city\" in person)"
   ]
  },
  {
   "cell_type": "markdown",
   "id": "5724f364",
   "metadata": {},
   "source": [
    "## 🔁 Looping Through a Dictionary"
   ]
  },
  {
   "cell_type": "code",
   "execution_count": null,
   "id": "e8038f4a",
   "metadata": {},
   "outputs": [],
   "source": [
    "# ✅ Loop through keys and values\n",
    "for key, value in person.items():\n",
    "    print(f\"{key}: {value}\")"
   ]
  },
  {
   "cell_type": "markdown",
   "id": "54e181e6",
   "metadata": {},
   "source": [
    "## 🧩 Nested Dictionaries"
   ]
  },
  {
   "cell_type": "code",
   "execution_count": null,
   "id": "ea0a67bd",
   "metadata": {},
   "outputs": [],
   "source": [
    "# ✅ Create a dictionary of people\n",
    "people = {\n",
    "    \"person1\": {\"name\": \"Alex\", \"age\": 30},\n",
    "    \"person2\": {\"name\": \"Jordan\", \"age\": 25}\n",
    "}\n",
    "print(people[\"person1\"][\"name\"])\n",
    "print(people[\"person2\"][\"age\"])"
   ]
  },
  {
   "cell_type": "markdown",
   "id": "f0b2ca77",
   "metadata": {},
   "source": [
    "## 📝 Practice\n",
    "1. Create a dictionary called `book` with keys: title, author, year.\n",
    "2. Add a key `genre` to the dictionary.\n",
    "3. Remove the `year` key.\n",
    "4. Check if `author` is a key in the dictionary.\n",
    "5. Loop through all key-value pairs and print them."
   ]
  },
  {
   "cell_type": "code",
   "execution_count": null,
   "id": "005bfe98",
   "metadata": {},
   "outputs": [],
   "source": []
  }
 ],
 "metadata": {},
 "nbformat": 4,
 "nbformat_minor": 5
}