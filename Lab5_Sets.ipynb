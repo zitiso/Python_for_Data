{
 "cells": [
  {
   "cell_type": "markdown",
   "id": "2c3a9d3a",
   "metadata": {},
   "source": [
    "# 🧪 Lab 5: Working with Sets in Python\n",
    "\n",
    "## Objectives\n",
    "- Understand what sets are and how they differ from lists and tuples\n",
    "- Learn how to create, modify, and use sets\n",
    "- Explore key set operations: union, intersection, difference\n",
    "- Practice using sets for data cleaning and comparison tasks\n",
    "\n",
    "---"
   ]
  },
  {
   "cell_type": "markdown",
   "id": "87f2dfbb",
   "metadata": {},
   "source": [
    "## 📘 What is a Set?\n",
    "A set is an unordered collection of unique elements. Sets are useful for checking membership and eliminating duplicates.\n",
    "\n",
    "### Set Syntax:\n",
    "```python\n",
    "my_set = {1, 2, 3}\n",
    "```"
   ]
  },
  {
   "cell_type": "code",
   "execution_count": null,
   "id": "8a0e6e3c",
   "metadata": {},
   "outputs": [],
   "source": [
    "# ✅ Create a set of colors\n",
    "colors = {\"red\", \"green\", \"blue\"}\n",
    "print(colors)\n",
    "\n",
    "# ✅ Add a duplicate color (no effect)\n",
    "colors.add(\"red\")\n",
    "print(\"After adding duplicate:\", colors)\n",
    "\n",
    "# ✅ Add a new color\n",
    "colors.add(\"yellow\")\n",
    "print(\"After adding yellow:\", colors)"
   ]
  },
  {
   "cell_type": "markdown",
   "id": "a9178a67",
   "metadata": {},
   "source": [
    "## ❌ Removing Items and Checking Membership"
   ]
  },
  {
   "cell_type": "code",
   "execution_count": null,
   "id": "208e1eb5",
   "metadata": {},
   "outputs": [],
   "source": [
    "# ✅ Remove an item\n",
    "colors.remove(\"green\")\n",
    "print(colors)\n",
    "\n",
    "# ✅ Check if a color is in the set\n",
    "print(\"blue\" in colors)\n",
    "print(\"green\" in colors)"
   ]
  },
  {
   "cell_type": "markdown",
   "id": "4f11fc91",
   "metadata": {},
   "source": [
    "## 🔁 Set Operations"
   ]
  },
  {
   "cell_type": "code",
   "execution_count": null,
   "id": "43220f12",
   "metadata": {},
   "outputs": [],
   "source": [
    "# ✅ Create two sets\n",
    "a = {1, 2, 3, 4}\n",
    "b = {3, 4, 5, 6}\n",
    "\n",
    "# ✅ Union\n",
    "print(\"Union:\", a | b)\n",
    "\n",
    "# ✅ Intersection\n",
    "print(\"Intersection:\", a & b)\n",
    "\n",
    "# ✅ Difference\n",
    "print(\"Difference (a - b):\", a - b)\n",
    "\n",
    "# ✅ Symmetric Difference\n",
    "print(\"Symmetric Difference:\", a ^ b)"
   ]
  },
  {
   "cell_type": "markdown",
   "id": "c7185d87",
   "metadata": {},
   "source": [
    "## 🧹 Example: Removing Duplicates with Sets"
   ]
  },
  {
   "cell_type": "code",
   "execution_count": null,
   "id": "b5e70485",
   "metadata": {},
   "outputs": [],
   "source": [
    "# ✅ Convert a list with duplicates to a set\n",
    "names = [\"Alice\", \"Bob\", \"Alice\", \"Eve\"]\n",
    "unique_names = set(names)\n",
    "print(unique_names)"
   ]
  },
  {
   "cell_type": "markdown",
   "id": "e551aeb2",
   "metadata": {},
   "source": [
    "## 📝 Practice\n",
    "1. Create two sets: `python_users` and `java_users`.\n",
    "2. Find users who know both languages.\n",
    "3. Find users who know only Python.\n",
    "4. Add a new user to the `python_users` set.\n",
    "5. Remove a user from the `java_users` set.\n",
    "6. Convert the `python_users` set to a list."
   ]
  },
  {
   "cell_type": "code",
   "execution_count": null,
   "id": "0c982024",
   "metadata": {},
   "outputs": [],
   "source": []
  }
 ],
 "metadata": {},
 "nbformat": 4,
 "nbformat_minor": 5
}