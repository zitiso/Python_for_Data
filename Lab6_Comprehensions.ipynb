{
 "cells": [
  {
   "cell_type": "markdown",
   "id": "03880404",
   "metadata": {},
   "source": [
    "# 🧪 Lab 6: List and Dictionary Comprehensions in Python\n",
    "\n",
    "## Objectives\n",
    "- Understand the syntax and benefits of list and dictionary comprehensions\n",
    "- Learn to rewrite basic loops as comprehensions\n",
    "- Practice filtering and transforming data\n",
    "- Compare comprehensions with traditional loops\n",
    "\n",
    "---"
   ]
  },
  {
   "cell_type": "markdown",
   "id": "a661eb95",
   "metadata": {},
   "source": [
    "## 📘 What is a List Comprehension?\n",
    "A list comprehension is a concise way to create lists.\n",
    "\n",
    "### Syntax:\n",
    "```python\n",
    "[expression for item in iterable if condition]\n",
    "```\n",
    "Example:\n",
    "```python\n",
    "squares = [x**2 for x in range(5)]\n",
    "```"
   ]
  },
  {
   "cell_type": "code",
   "execution_count": null,
   "id": "7dbe3ef8",
   "metadata": {},
   "outputs": [],
   "source": [
    "# ✅ Create a list of even numbers from 0 to 10 using list comprehension\n",
    "evens = [x for x in range(11) if x % 2 == 0]\n",
    "print(evens)"
   ]
  },
  {
   "cell_type": "markdown",
   "id": "38fef00b",
   "metadata": {},
   "source": [
    "## 🔁 Equivalent Using a Loop"
   ]
  },
  {
   "cell_type": "code",
   "execution_count": null,
   "id": "0ff7eb6e",
   "metadata": {},
   "outputs": [],
   "source": [
    "# ✅ Same as above using a traditional for loop\n",
    "evens_loop = []\n",
    "for x in range(11):\n",
    "    if x % 2 == 0:\n",
    "        evens_loop.append(x)\n",
    "print(evens_loop)"
   ]
  },
  {
   "cell_type": "markdown",
   "id": "af176bdf",
   "metadata": {},
   "source": [
    "## 📘 Dictionary Comprehension\n",
    "Use dictionary comprehensions to create or transform dictionaries.\n",
    "\n",
    "### Syntax:\n",
    "```python\n",
    "{key_expr: value_expr for item in iterable if condition}\n",
    "```\n",
    "Example:\n",
    "```python\n",
    "squares = {x: x**2 for x in range(5)}\n",
    "```"
   ]
  },
  {
   "cell_type": "code",
   "execution_count": null,
   "id": "bfcfecbf",
   "metadata": {},
   "outputs": [],
   "source": [
    "# ✅ Create a dictionary of numbers and their squares\n",
    "squares = {x: x**2 for x in range(6)}\n",
    "print(squares)"
   ]
  },
  {
   "cell_type": "markdown",
   "id": "ecdf8488",
   "metadata": {},
   "source": [
    "## 🔍 Filtering in Comprehensions"
   ]
  },
  {
   "cell_type": "code",
   "execution_count": null,
   "id": "e86243cd",
   "metadata": {},
   "outputs": [],
   "source": [
    "# ✅ Create a list of names that start with 'A'\n",
    "names = [\"Alice\", \"Bob\", \"Angela\", \"Eve\"]\n",
    "a_names = [name for name in names if name.startswith(\"A\")]\n",
    "print(a_names)"
   ]
  },
  {
   "cell_type": "markdown",
   "id": "de415b83",
   "metadata": {},
   "source": [
    "## 🧩 Nested Comprehension (Optional/Advanced)"
   ]
  },
  {
   "cell_type": "code",
   "execution_count": null,
   "id": "023addea",
   "metadata": {},
   "outputs": [],
   "source": [
    "# ✅ Flatten a list of lists using nested list comprehension\n",
    "matrix = [[1, 2], [3, 4], [5, 6]]\n",
    "flat = [num for row in matrix for num in row]\n",
    "print(flat)"
   ]
  },
  {
   "cell_type": "markdown",
   "id": "57858400",
   "metadata": {},
   "source": [
    "## 📝 Practice\n",
    "1. Use a list comprehension to get the square of all odd numbers from 1 to 10.\n",
    "2. Use a dictionary comprehension to map names to their lengths: `['Anna', 'Bob', 'Charlie']`\n",
    "3. Convert a list of temperatures in Celsius to Fahrenheit using list comprehension.\n",
    "4. Filter a dictionary of people by age > 25 using dict comprehension:\n",
    "```python\n",
    "people = {\"Alice\": 30, \"Bob\": 20, \"Charlie\": 27}\n",
    "```"
   ]
  },
  {
   "cell_type": "code",
   "execution_count": null,
   "id": "28a8a5d7",
   "metadata": {},
   "outputs": [],
   "source": []
  }
 ],
 "metadata": {},
 "nbformat": 4,
 "nbformat_minor": 5
}