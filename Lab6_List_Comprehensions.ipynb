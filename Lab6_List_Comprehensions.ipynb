{
 "cells": [
  {
   "cell_type": "markdown",
   "id": "2d99e3fd",
   "metadata": {},
   "source": [
    "# 🧪 Lab 6: List Comprehensions (Expanded)\n",
    "\n",
    "## Objectives\n",
    "- Understand the full syntax and flexibility of list comprehensions\n",
    "- Compare comprehensions to traditional `for` loops\n",
    "- Practice filtering, transforming, and nesting comprehensions\n",
    "- Learn when not to use comprehensions for clarity or performance\n",
    "\n",
    "---"
   ]
  },
  {
   "cell_type": "markdown",
   "id": "1b4f8790",
   "metadata": {},
   "source": [
    "## 📘 What is a List Comprehension?\n",
    "A list comprehension is a concise way to create new lists from existing iterables.\n",
    "\n",
    "### Syntax:\n",
    "```python\n",
    "[expression for item in iterable if condition]\n",
    "```"
   ]
  },
  {
   "cell_type": "code",
   "execution_count": null,
   "id": "ca522051",
   "metadata": {},
   "outputs": [],
   "source": [
    "# ✅ Create a list of squares\n",
    "squares = [x**2 for x in range(10)]\n",
    "print(squares)"
   ]
  },
  {
   "cell_type": "markdown",
   "id": "e087eb92",
   "metadata": {},
   "source": [
    "## 🔁 Equivalent For Loop"
   ]
  },
  {
   "cell_type": "code",
   "execution_count": null,
   "id": "007b93fe",
   "metadata": {},
   "outputs": [],
   "source": [
    "squares_loop = []\n",
    "for x in range(10):\n",
    "    squares_loop.append(x**2)\n",
    "print(squares_loop)"
   ]
  },
  {
   "cell_type": "markdown",
   "id": "517f06e7",
   "metadata": {},
   "source": [
    "## 🔍 Add a Condition to Filter Items"
   ]
  },
  {
   "cell_type": "code",
   "execution_count": null,
   "id": "a4fca4a3",
   "metadata": {},
   "outputs": [],
   "source": [
    "# ✅ Get only even squares\n",
    "even_squares = [x**2 for x in range(10) if x % 2 == 0]\n",
    "print(even_squares)"
   ]
  },
  {
   "cell_type": "markdown",
   "id": "ef084945",
   "metadata": {},
   "source": [
    "## 🧩 Nested Comprehensions"
   ]
  },
  {
   "cell_type": "code",
   "execution_count": null,
   "id": "1e1ad50d",
   "metadata": {},
   "outputs": [],
   "source": [
    "# ✅ Flatten a matrix using nested list comprehension\n",
    "matrix = [[1, 2], [3, 4], [5, 6]]\n",
    "flattened = [num for row in matrix for num in row]\n",
    "print(flattened)"
   ]
  },
  {
   "cell_type": "markdown",
   "id": "c4f0a9bd",
   "metadata": {},
   "source": [
    "## ⚠️ When Not to Use List Comprehensions\n",
    "- When logic is too complex or nested too deeply\n",
    "- When readability is more important than brevity\n",
    "\n",
    "Example (less readable):\n",
    "```python\n",
    "[x**2 for x in range(10) if x % 2 == 0 if x > 4]\n",
    "```\n",
    "Better to use a loop if multiple conditions and steps are involved."
   ]
  },
  {
   "cell_type": "markdown",
   "id": "5553b173",
   "metadata": {},
   "source": [
    "## 📝 Practice\n",
    "1. Create a list of numbers from 0–20 that are divisible by 3.\n",
    "2. Use a list comprehension to convert a list of words to uppercase.\n",
    "3. Flatten a 2D list of integers into a single list.\n",
    "4. Create a list of the first character of each word in `['apple', 'banana', 'cherry']`.\n",
    "5. BONUS: Use a nested comprehension to get all pairs (x, y) for x in [1,2] and y in [3,4]."
   ]
  },
  {
   "cell_type": "code",
   "execution_count": null,
   "id": "cb15f68c",
   "metadata": {},
   "outputs": [],
   "source": []
  }
 ],
 "metadata": {},
 "nbformat": 4,
 "nbformat_minor": 5
}