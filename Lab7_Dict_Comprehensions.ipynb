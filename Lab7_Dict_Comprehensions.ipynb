{
 "cells": [
  {
   "cell_type": "markdown",
   "id": "fb030f35",
   "metadata": {},
   "source": [
    "# 🧪 Lab 7: Dictionary Comprehensions\n",
    "\n",
    "## Objectives\n",
    "- Understand the syntax and use cases of dictionary comprehensions\n",
    "- Practice creating and transforming dictionaries using comprehensions\n",
    "- Apply filtering logic in dictionary comprehensions\n",
    "- Compare to traditional loop-based dictionary creation\n",
    "\n",
    "---"
   ]
  },
  {
   "cell_type": "markdown",
   "id": "9db3e447",
   "metadata": {},
   "source": [
    "## 📘 What is a Dictionary Comprehension?\n",
    "A dictionary comprehension is a concise way to create dictionaries from iterables.\n",
    "\n",
    "### Syntax:\n",
    "```python\n",
    "{key_expr: value_expr for item in iterable if condition}\n",
    "```"
   ]
  },
  {
   "cell_type": "code",
   "execution_count": null,
   "id": "594b4747",
   "metadata": {},
   "outputs": [],
   "source": [
    "# ✅ Create a dictionary of squares\n",
    "squares = {x: x**2 for x in range(6)}\n",
    "print(squares)"
   ]
  },
  {
   "cell_type": "markdown",
   "id": "11c38549",
   "metadata": {},
   "source": [
    "## 🔁 Equivalent Using a Loop"
   ]
  },
  {
   "cell_type": "code",
   "execution_count": null,
   "id": "daf2c63c",
   "metadata": {},
   "outputs": [],
   "source": [
    "squares_loop = {}\n",
    "for x in range(6):\n",
    "    squares_loop[x] = x**2\n",
    "print(squares_loop)"
   ]
  },
  {
   "cell_type": "markdown",
   "id": "82668ead",
   "metadata": {},
   "source": [
    "## 🔍 Filtering in Dictionary Comprehensions"
   ]
  },
  {
   "cell_type": "code",
   "execution_count": null,
   "id": "78efb297",
   "metadata": {},
   "outputs": [],
   "source": [
    "# ✅ Include only even keys\n",
    "even_squares = {x: x**2 for x in range(10) if x % 2 == 0}\n",
    "print(even_squares)"
   ]
  },
  {
   "cell_type": "markdown",
   "id": "a090bf28",
   "metadata": {},
   "source": [
    "## 🔄 Transforming Dictionary Values"
   ]
  },
  {
   "cell_type": "code",
   "execution_count": null,
   "id": "d1de5774",
   "metadata": {},
   "outputs": [],
   "source": [
    "# ✅ Capitalize the values of a dictionary\n",
    "names = {\"a\": \"alice\", \"b\": \"bob\", \"c\": \"carol\"}\n",
    "capitalized = {k: v.capitalize() for k, v in names.items()}\n",
    "print(capitalized)"
   ]
  },
  {
   "cell_type": "code",
   "execution_count": null,
   "id": "9985d239",
   "metadata": {},
   "outputs": [],
   "source": [
    "# ✅ Create a dictionary mapping words to their lengths\n",
    "words = [\"python\", \"data\", \"science\"]\n",
    "word_lengths = {word: len(word) for word in words}\n",
    "print(word_lengths)"
   ]
  },
  {
   "cell_type": "markdown",
   "id": "07b2b9b1",
   "metadata": {},
   "source": [
    "## 📝 Practice\n",
    "1. Convert a list of items into a dictionary with values as their indices:\n",
    "```python\n",
    "['a', 'b', 'c'] → {'a': 0, 'b': 1, 'c': 2}\n",
    "```\n",
    "2. Create a dictionary from `range(10)` with only odd numbers as keys and their cubes as values.\n",
    "3. Filter a dictionary to only keep items where the value is above 50:\n",
    "```python\n",
    "scores = {'A': 72, 'B': 48, 'C': 95}\n",
    "```\n",
    "4. BONUS: Reverse a dictionary (swap keys and values)."
   ]
  },
  {
   "cell_type": "code",
   "execution_count": null,
   "id": "70ebe7d0",
   "metadata": {},
   "outputs": [],
   "source": []
  }
 ],
 "metadata": {},
 "nbformat": 4,
 "nbformat_minor": 5
}