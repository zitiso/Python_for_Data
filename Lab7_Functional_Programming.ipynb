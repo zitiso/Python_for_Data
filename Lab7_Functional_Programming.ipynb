{
 "cells": [
  {
   "cell_type": "markdown",
   "id": "43db26ad",
   "metadata": {},
   "source": [
    "# 🧪 Lab 7: Functional Programming with `map`, `filter`, and `reduce`\n",
    "\n",
    "## Objectives\n",
    "- Learn how to use `map()`, `filter()`, and `reduce()` for data processing\n",
    "- Understand the role of lambda functions in functional programming\n",
    "- Compare with traditional loops and comprehensions\n",
    "- Practice real-world examples of data transformation\n",
    "\n",
    "---"
   ]
  },
  {
   "cell_type": "markdown",
   "id": "32c404d6",
   "metadata": {},
   "source": [
    "## 📘 Functional Programming in Python\n",
    "Python supports a functional style of programming using built-in functions like `map`, `filter`, and `reduce`.\n",
    "\n",
    "These are especially useful for transforming or filtering collections of data."
   ]
  },
  {
   "cell_type": "markdown",
   "id": "1c28061f",
   "metadata": {},
   "source": [
    "## 🔁 `map()` - Transform Items"
   ]
  },
  {
   "cell_type": "code",
   "execution_count": null,
   "id": "baed2113",
   "metadata": {},
   "outputs": [],
   "source": [
    "# ✅ Use map to square numbers\n",
    "numbers = [1, 2, 3, 4, 5]\n",
    "squares = list(map(lambda x: x**2, numbers))\n",
    "print(squares)"
   ]
  },
  {
   "cell_type": "markdown",
   "id": "e2a0b3c7",
   "metadata": {},
   "source": [
    "## 🚦 `filter()` - Keep Only Items That Match a Condition"
   ]
  },
  {
   "cell_type": "code",
   "execution_count": null,
   "id": "39bf8d90",
   "metadata": {},
   "outputs": [],
   "source": [
    "# ✅ Use filter to get even numbers\n",
    "evens = list(filter(lambda x: x % 2 == 0, numbers))\n",
    "print(evens)"
   ]
  },
  {
   "cell_type": "markdown",
   "id": "15c61443",
   "metadata": {},
   "source": [
    "## 🧮 `reduce()` - Combine Items into a Single Value"
   ]
  },
  {
   "cell_type": "code",
   "execution_count": null,
   "id": "4aa7fb90",
   "metadata": {},
   "outputs": [],
   "source": [
    "# ✅ Use reduce to calculate the product of a list\n",
    "from functools import reduce\n",
    "\n",
    "product = reduce(lambda x, y: x * y, numbers)\n",
    "print(product)"
   ]
  },
  {
   "cell_type": "markdown",
   "id": "0123ed7e",
   "metadata": {},
   "source": [
    "## 🔄 Comparison with Loops"
   ]
  },
  {
   "cell_type": "code",
   "execution_count": null,
   "id": "331072b2",
   "metadata": {},
   "outputs": [],
   "source": [
    "# ✅ Sum of squares using a loop\n",
    "squares_sum = 0\n",
    "for n in numbers:\n",
    "    squares_sum += n ** 2\n",
    "print(squares_sum)"
   ]
  },
  {
   "cell_type": "markdown",
   "id": "b3ba65c2",
   "metadata": {},
   "source": [
    "## 🔗 Combining `filter` and `map`"
   ]
  },
  {
   "cell_type": "code",
   "execution_count": null,
   "id": "8d19a65a",
   "metadata": {},
   "outputs": [],
   "source": [
    "# ✅ Square only the even numbers\n",
    "square_evens = list(map(lambda x: x**2, filter(lambda x: x % 2 == 0, numbers)))\n",
    "print(square_evens)"
   ]
  },
  {
   "cell_type": "markdown",
   "id": "32be0844",
   "metadata": {},
   "source": [
    "## 📝 Practice\n",
    "1. Use `map()` to convert a list of temperatures from Celsius to Fahrenheit.\n",
    "   - Formula: `(C * 9/5) + 32`\n",
    "2. Use `filter()` to select strings longer than 3 characters from a list.\n",
    "3. Use `reduce()` to find the maximum value in a list (no `max()` function).\n",
    "4. Combine `map()` and `filter()` to double all numbers greater than 5.\n",
    "```python\n",
    "nums = [2, 4, 6, 8, 10]\n",
    "```"
   ]
  },
  {
   "cell_type": "code",
   "execution_count": null,
   "id": "5696dad0",
   "metadata": {},
   "outputs": [],
   "source": []
  }
 ],
 "metadata": {},
 "nbformat": 4,
 "nbformat_minor": 5
}