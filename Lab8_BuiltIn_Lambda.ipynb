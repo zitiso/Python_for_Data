{
 "cells": [
  {
   "cell_type": "markdown",
   "id": "7e04e1bf",
   "metadata": {},
   "source": [
    "# 🧪 Lab 8: Built-in Functions and Lambda Expressions\n",
    "\n",
    "## Objectives\n",
    "- Learn to use built-in functions for data processing: `sorted()`, `min()`, `max()`, `sum()`, `any()`, `all()`\n",
    "- Understand the purpose and syntax of `lambda` functions\n",
    "- Practice writing and using anonymous functions\n",
    "\n",
    "---"
   ]
  },
  {
   "cell_type": "markdown",
   "id": "2596ae86",
   "metadata": {},
   "source": [
    "## 📘 Built-in Data Processing Functions\n",
    "Python provides a number of built-in functions that are frequently used in data analysis and transformation."
   ]
  },
  {
   "cell_type": "code",
   "execution_count": null,
   "id": "328f1eb1",
   "metadata": {},
   "outputs": [],
   "source": [
    "# ✅ Basic numeric functions\n",
    "numbers = [3, 7, 1, 9, 2]\n",
    "print(\"Sum:\", sum(numbers))\n",
    "print(\"Min:\", min(numbers))\n",
    "print(\"Max:\", max(numbers))"
   ]
  },
  {
   "cell_type": "code",
   "execution_count": null,
   "id": "7eebf1e8",
   "metadata": {},
   "outputs": [],
   "source": [
    "# ✅ Boolean evaluation functions\n",
    "conditions = [True, True, False]\n",
    "print(\"Any True?\", any(conditions))\n",
    "print(\"All True?\", all(conditions))"
   ]
  },
  {
   "cell_type": "code",
   "execution_count": null,
   "id": "ac594300",
   "metadata": {},
   "outputs": [],
   "source": [
    "# ✅ Sorting a list of values\n",
    "unsorted = [10, 5, 7, 3, 1]\n",
    "print(\"Sorted:\", sorted(unsorted))\n",
    "print(\"Original list:\", unsorted)"
   ]
  },
  {
   "cell_type": "markdown",
   "id": "1faefe2e",
   "metadata": {},
   "source": [
    "## 🔧 Lambda Functions (Anonymous Functions)\n",
    "A `lambda` function lets you create small anonymous functions without a name.\n",
    "\n",
    "### Syntax:\n",
    "```python\n",
    "lambda arguments: expression\n",
    "```\n",
    "Example:\n",
    "```python\n",
    "square = lambda x: x * x\n",
    "```"
   ]
  },
  {
   "cell_type": "code",
   "execution_count": null,
   "id": "e0900559",
   "metadata": {},
   "outputs": [],
   "source": [
    "# ✅ Example of using lambda\n",
    "square = lambda x: x * x\n",
    "print(square(5))"
   ]
  },
  {
   "cell_type": "code",
   "execution_count": null,
   "id": "38bea919",
   "metadata": {},
   "outputs": [],
   "source": [
    "# ✅ Use lambda with `sorted` to sort strings by length\n",
    "names = [\"Zoe\", \"Alexandra\", \"Bob\"]\n",
    "sorted_names = sorted(names, key=lambda name: len(name))\n",
    "print(sorted_names)"
   ]
  },
  {
   "cell_type": "markdown",
   "id": "92389018",
   "metadata": {},
   "source": [
    "## 📝 Practice\n",
    "1. Use `sum()` to add a list of numbers: `[4, 8, 15, 16, 23, 42]`\n",
    "2. Use `any()` and `all()` on `[False, True, True]`\n",
    "3. Sort a list of dictionaries by a numeric key using `sorted()` and `lambda`\n",
    "```python\n",
    "people = [{\"name\": \"Alice\", \"age\": 30}, {\"name\": \"Bob\", \"age\": 20}]\n",
    "```\n",
    "4. Create a `lambda` that returns the last character of a string, and use it to sort a list of strings."
   ]
  },
  {
   "cell_type": "code",
   "execution_count": null,
   "id": "9867b32f",
   "metadata": {},
   "outputs": [],
   "source": []
  }
 ],
 "metadata": {},
 "nbformat": 4,
 "nbformat_minor": 5
}