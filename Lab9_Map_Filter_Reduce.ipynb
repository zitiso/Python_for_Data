{
 "cells": [
  {
   "cell_type": "markdown",
   "id": "b2a567fb",
   "metadata": {},
   "source": [
    "# 🧪 Lab 9: Map, Filter, and Reduce\n",
    "\n",
    "## Objectives\n",
    "- Learn to use `map()`, `filter()`, and `reduce()` functions\n",
    "- Practice using `lambda` functions as arguments\n",
    "- Compare functional methods with traditional loops and comprehensions\n",
    "- Apply data processing steps using these tools\n",
    "\n",
    "---"
   ]
  },
  {
   "cell_type": "markdown",
   "id": "537e2b03",
   "metadata": {},
   "source": [
    "## 📘 Functional Programming Tools\n",
    "These tools allow for concise and readable transformation and filtering of data collections."
   ]
  },
  {
   "cell_type": "markdown",
   "id": "1b9bf101",
   "metadata": {},
   "source": [
    "### 🔁 `map()` – Apply a Function to Each Item"
   ]
  },
  {
   "cell_type": "code",
   "execution_count": null,
   "id": "03c7c48e",
   "metadata": {},
   "outputs": [],
   "source": [
    "# ✅ Use `map()` to square numbers\n",
    "numbers = [1, 2, 3, 4, 5]\n",
    "squares = list(map(lambda x: x ** 2, numbers))\n",
    "print(\"Squares:\", squares)"
   ]
  },
  {
   "cell_type": "markdown",
   "id": "77b548ca",
   "metadata": {},
   "source": [
    "### 🚦 `filter()` – Select Items That Match a Condition"
   ]
  },
  {
   "cell_type": "code",
   "execution_count": null,
   "id": "04be8b14",
   "metadata": {},
   "outputs": [],
   "source": [
    "# ✅ Use `filter()` to keep even numbers\n",
    "evens = list(filter(lambda x: x % 2 == 0, numbers))\n",
    "print(\"Evens:\", evens)"
   ]
  },
  {
   "cell_type": "markdown",
   "id": "bf340e6a",
   "metadata": {},
   "source": [
    "### 🧮 `reduce()` – Combine Items into a Single Value"
   ]
  },
  {
   "cell_type": "code",
   "execution_count": null,
   "id": "e5cf7232",
   "metadata": {},
   "outputs": [],
   "source": [
    "# ✅ Use `reduce()` to compute the sum of squares\n",
    "from functools import reduce\n",
    "square_sum = reduce(lambda acc, x: acc + x ** 2, numbers, 0)\n",
    "print(\"Sum of squares:\", square_sum)"
   ]
  },
  {
   "cell_type": "markdown",
   "id": "85f2be80",
   "metadata": {},
   "source": [
    "## 🔄 Comparison with Loops and Comprehensions"
   ]
  },
  {
   "cell_type": "code",
   "execution_count": null,
   "id": "f357fb36",
   "metadata": {},
   "outputs": [],
   "source": [
    "# ✅ Traditional for-loop for sum of squares\n",
    "total = 0\n",
    "for n in numbers:\n",
    "    total += n ** 2\n",
    "print(\"Loop sum of squares:\", total)"
   ]
  },
  {
   "cell_type": "code",
   "execution_count": null,
   "id": "24e7ecb1",
   "metadata": {},
   "outputs": [],
   "source": [
    "# ✅ Using list comprehension and `sum()`\n",
    "square_sum_comp = sum([x ** 2 for x in numbers])\n",
    "print(\"Comprehension sum of squares:\", square_sum_comp)"
   ]
  },
  {
   "cell_type": "markdown",
   "id": "0c570f15",
   "metadata": {},
   "source": [
    "## 🔗 Combining `map()` and `filter()`"
   ]
  },
  {
   "cell_type": "code",
   "execution_count": null,
   "id": "9efdfa1b",
   "metadata": {},
   "outputs": [],
   "source": [
    "# ✅ Get squares of even numbers only\n",
    "square_evens = list(map(lambda x: x ** 2, filter(lambda x: x % 2 == 0, numbers)))\n",
    "print(\"Even squares:\", square_evens)"
   ]
  },
  {
   "cell_type": "markdown",
   "id": "57673416",
   "metadata": {},
   "source": [
    "## 📝 Practice\n",
    "1. Use `map()` to convert a list of Celsius temps to Fahrenheit: `[0, 10, 20, 30]`\n",
    "   - Formula: `(C * 9/5) + 32`\n",
    "2. Use `filter()` to remove strings shorter than 4 characters: `[\"dog\", \"tiger\", \"ant\", \"eagle\"]`\n",
    "3. Use `reduce()` to compute the product of all items in `[2, 3, 4]`\n",
    "4. Combine `filter()` and `map()` to double all numbers > 5 from `[1, 6, 3, 9, 2]`\n",
    "5. Compare one of your functional solutions with a traditional loop."
   ]
  },
  {
   "cell_type": "code",
   "execution_count": null,
   "id": "b0d350ce",
   "metadata": {},
   "outputs": [],
   "source": []
  }
 ],
 "metadata": {},
 "nbformat": 4,
 "nbformat_minor": 5
}